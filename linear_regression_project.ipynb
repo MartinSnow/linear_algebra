{
 "cells": [
  {
   "cell_type": "code",
   "execution_count": 1,
   "metadata": {},
   "outputs": [],
   "source": [
    "# 任意选一个你喜欢的整数，这能帮你得到稳定的结果\n",
    "seed = 5"
   ]
  },
  {
   "cell_type": "markdown",
   "metadata": {},
   "source": [
    "# 欢迎来到线性回归项目¶\n",
    "若项目中的题目有困难没完成也没关系，我们鼓励你带着问题提交项目，评审人会给予你诸多帮助。    \n",
    "\n",
    "所有选做题都可以不做，不影响项目通过。如果你做了，那么项目评审会帮你批改，也会因为选做部分做错而判定为不通过。    \n",
    "\n",
    "其中非代码题可以提交手写后扫描的 pdf 文件，或使用 Latex 在文档中直接回答。"
   ]
  },
  {
   "cell_type": "markdown",
   "metadata": {},
   "source": [
    "# 1 矩阵运算    \n",
    "\n",
    "## 1.1 创建一个 4*4 的单位矩阵"
   ]
  },
  {
   "cell_type": "code",
   "execution_count": 2,
   "metadata": {},
   "outputs": [],
   "source": [
    "# 这个项目设计来帮你熟悉 python list 和线性代数\n",
    "# 你不能调用任何NumPy以及相关的科学计算库来完成作业\n",
    "\n",
    "\n",
    "# 本项目要求矩阵统一使用二维列表表示，如下：\n",
    "A1 = [[1,2,3], \n",
    "     [2,3,3], \n",
    "     [1,2,5]]\n",
    "\n",
    "B = [[1,2,3,5], \n",
    "     [2,3,3,5], \n",
    "     [1,2,5,1]]\n",
    "\n",
    "# 向量也用二维列表表示\n",
    "C = [[1],\n",
    "     [2],\n",
    "     [3]]\n",
    "\n",
    "#TODO 创建一个 4*4 单位矩阵\n",
    "I = [[1,0,0,0],\n",
    "     [0,1,0,0],\n",
    "     [0,0,1,0],\n",
    "     [0,0,0,1]]"
   ]
  },
  {
   "cell_type": "markdown",
   "metadata": {},
   "source": [
    "## 1.2 返回矩阵的行数和列数"
   ]
  },
  {
   "cell_type": "code",
   "execution_count": 3,
   "metadata": {},
   "outputs": [],
   "source": [
    "# TODO 返回矩阵的行数和列数\n",
    "def shape(M):\n",
    "    r = len(M)\n",
    "    c = len(M[0])\n",
    "    return r,c"
   ]
  },
  {
   "cell_type": "code",
   "execution_count": 4,
   "metadata": {
    "scrolled": true
   },
   "outputs": [
    {
     "name": "stderr",
     "output_type": "stream",
     "text": [
      ".\n",
      "----------------------------------------------------------------------\n",
      "Ran 1 test in 0.002s\n",
      "\n",
      "OK\n"
     ]
    }
   ],
   "source": [
    "# 运行以下代码测试你的 shape 函数\n",
    "%run -i -e test.py LinearRegressionTestCase.test_shape"
   ]
  },
  {
   "cell_type": "markdown",
   "metadata": {},
   "source": [
    "## 1.3 每个元素四舍五入到特定小数数位"
   ]
  },
  {
   "cell_type": "code",
   "execution_count": 5,
   "metadata": {},
   "outputs": [],
   "source": [
    "# TODO 每个元素四舍五入到特定小数数位\n",
    "# 直接修改参数矩阵，无返回值\n",
    "def matxRound(M, decPts=4):\n",
    "    for p in M:\n",
    "        for index in range(len(M[0])):\n",
    "            p[index] = round(p[index], decPts)\n",
    "    pass"
   ]
  },
  {
   "cell_type": "code",
   "execution_count": 6,
   "metadata": {},
   "outputs": [
    {
     "name": "stderr",
     "output_type": "stream",
     "text": [
      ".\n",
      "----------------------------------------------------------------------\n",
      "Ran 1 test in 0.036s\n",
      "\n",
      "OK\n"
     ]
    }
   ],
   "source": [
    "# 运行以下代码测试你的 matxRound 函数\n",
    "%run -i -e test.py LinearRegressionTestCase.test_matxRound"
   ]
  },
  {
   "cell_type": "markdown",
   "metadata": {},
   "source": [
    "## 1.4 计算矩阵的转置"
   ]
  },
  {
   "cell_type": "code",
   "execution_count": 7,
   "metadata": {},
   "outputs": [],
   "source": [
    "# TODO 计算矩阵的转置\n",
    "def transpose(M):\n",
    "    c_trans, r_trans = shape(M)\n",
    "    trans_M = []\n",
    "    for i in range(r_trans):\n",
    "        new_row = [0]*c_trans\n",
    "        for j in range(c_trans):\n",
    "            new_row[j] = M[j][i]\n",
    "        new_row = tuple(new_row)\n",
    "        trans_M.append(new_row)\n",
    "    return trans_M"
   ]
  },
  {
   "cell_type": "code",
   "execution_count": 8,
   "metadata": {},
   "outputs": [
    {
     "name": "stderr",
     "output_type": "stream",
     "text": [
      ".\n",
      "----------------------------------------------------------------------\n",
      "Ran 1 test in 0.009s\n",
      "\n",
      "OK\n"
     ]
    }
   ],
   "source": [
    "# 运行以下代码测试你的 transpose 函数\n",
    "%run -i -e test.py LinearRegressionTestCase.test_transpose"
   ]
  },
  {
   "cell_type": "markdown",
   "metadata": {},
   "source": [
    "## 1.5 计算矩阵乘法 AB"
   ]
  },
  {
   "cell_type": "code",
   "execution_count": 9,
   "metadata": {},
   "outputs": [],
   "source": [
    "# TODO 计算矩阵乘法 AB，如果无法相乘则raise ValueError\n",
    "def matxMultiply(A, B):\n",
    "    r_A = len(A)\n",
    "    c_A = len(A[0])\n",
    "    r_B = len(B)\n",
    "    c_B = len(B[0])\n",
    "    multi_C = [[0]*c_B for i in range(r_A)]\n",
    "    if c_A != r_B:\n",
    "        raise ValueError(\"A can't mutiply with B\")\n",
    "    else:\n",
    "        for i in range(r_A):\n",
    "            for j in range(c_B):\n",
    "                for k in range(c_A):\n",
    "                    multi_C[i][j] += A[i][k]*B[k][j]\n",
    "    return multi_C"
   ]
  },
  {
   "cell_type": "code",
   "execution_count": 10,
   "metadata": {},
   "outputs": [
    {
     "name": "stderr",
     "output_type": "stream",
     "text": [
      ".\n",
      "----------------------------------------------------------------------\n",
      "Ran 1 test in 0.046s\n",
      "\n",
      "OK\n"
     ]
    }
   ],
   "source": [
    "# 运行以下代码测试你的 matxMultiply 函数\n",
    "%run -i -e test.py LinearRegressionTestCase.test_matxMultiply"
   ]
  },
  {
   "cell_type": "markdown",
   "metadata": {},
   "source": [
    "# 2 Gaussign Jordan 消元法    \n",
    "\n",
    "## 2.1 构造增广矩阵\n",
    "$ A = \\begin{bmatrix}\n",
    "    a_{11}    ; a_{12} ; ... ; a_{1n}\\\\\n",
    "    a_{21}    ; a_{22} ; ... ; a_{2n}\\\\\n",
    "    a_{31}    ; a_{22} ; ... ; a_{3n}\\\\\n",
    "    ...    ; ... ; ... ; ...\\\\\n",
    "    a_{n1}    ; a_{n2} ; ... ; a_{nn}\\\\\n",
    "\\end{bmatrix} , b = \\begin{bmatrix}\n",
    "    b_{1}  \\\\\n",
    "    b_{2}  \\\\\n",
    "    b_{3}  \\\\\n",
    "    ...    \\\\\n",
    "    b_{n}  \\\\\n",
    "\\end{bmatrix}$\n",
    "返回 $ Ab = \\begin{bmatrix}\n",
    "    a_{11}    ; a_{12} ; ... ; a_{1n} ; b_{1}\\\\\n",
    "    a_{21}    ; a_{22} ; ... ; a_{2n} ; b_{2}\\\\\n",
    "    a_{31}    ; a_{22} ; ... ; a_{3n} ; b_{3}\\\\\n",
    "    ...    ; ... ; ... ; ...; ...\\\\\n",
    "    a_{n1}    ; a_{n2} ; ... ; a_{nn} ; b_{n} \\end{bmatrix}$"
   ]
  },
  {
   "cell_type": "code",
   "execution_count": 11,
   "metadata": {},
   "outputs": [],
   "source": [
    "# TODO 构造增广矩阵，假设A，b行数相同\n",
    "def augmentMatrix(A, b):\n",
    "    result = [[0]*(len(A[0])+1) for i in range(len(A))]\n",
    "    for i in range(len(A)):\n",
    "        for j in range(len(A[0])+1):\n",
    "            if j < len(A[0]):\n",
    "                result[i][j] = A[i][j]\n",
    "            else:\n",
    "                result[i][j] = b[i][0]\n",
    "    return result"
   ]
  },
  {
   "cell_type": "code",
   "execution_count": 12,
   "metadata": {},
   "outputs": [
    {
     "name": "stderr",
     "output_type": "stream",
     "text": [
      ".\n",
      "----------------------------------------------------------------------\n",
      "Ran 1 test in 0.007s\n",
      "\n",
      "OK\n"
     ]
    }
   ],
   "source": [
    "# 运行以下代码测试你的 augmentMatrix 函数\n",
    "%run -i -e test.py LinearRegressionTestCase.test_augmentMatrix"
   ]
  },
  {
   "cell_type": "markdown",
   "metadata": {},
   "source": [
    "## 2.2 初等行变换    \n",
    "\n",
    "    交换两行\n",
    "    把某行乘以一个非零常数\n",
    "    把某行加上另一行的若干倍："
   ]
  },
  {
   "cell_type": "code",
   "execution_count": 13,
   "metadata": {},
   "outputs": [],
   "source": [
    "# TODO r1 <---> r2\n",
    "# 直接修改参数矩阵，无返回值\n",
    "def swapRows(M, r1, r2):\n",
    "    M[r1], M[r2] = M[r2], M[r1]"
   ]
  },
  {
   "cell_type": "code",
   "execution_count": 14,
   "metadata": {},
   "outputs": [
    {
     "name": "stderr",
     "output_type": "stream",
     "text": [
      ".\n",
      "----------------------------------------------------------------------\n",
      "Ran 1 test in 0.002s\n",
      "\n",
      "OK\n"
     ]
    }
   ],
   "source": [
    "# 运行以下代码测试你的 swapRows 函数\n",
    "%run -i -e test.py LinearRegressionTestCase.test_swapRows"
   ]
  },
  {
   "cell_type": "code",
   "execution_count": 15,
   "metadata": {},
   "outputs": [],
   "source": [
    "# TODO r1 <--- r1 * scale\n",
    "# scale为0是非法输入，要求 raise ValueError\n",
    "# 直接修改参数矩阵，无返回值\n",
    "def scaleRow(M, r, scale):\n",
    "    if scale != 0:\n",
    "        for i in range(len(M[r])):\n",
    "            M[r][i] = M[r][i]*scale\n",
    "    else:\n",
    "        raise ValueError(\"scale is 0\")"
   ]
  },
  {
   "cell_type": "code",
   "execution_count": 16,
   "metadata": {},
   "outputs": [
    {
     "name": "stderr",
     "output_type": "stream",
     "text": [
      ".\n",
      "----------------------------------------------------------------------\n",
      "Ran 1 test in 0.001s\n",
      "\n",
      "OK\n"
     ]
    }
   ],
   "source": [
    "\n",
    "# 运行以下代码测试你的 scaleRow 函数\n",
    "%run -i -e test.py LinearRegressionTestCase.test_scaleRow"
   ]
  },
  {
   "cell_type": "code",
   "execution_count": 17,
   "metadata": {},
   "outputs": [],
   "source": [
    "# TODO r1 <--- r1 + r2*scale\n",
    "# 直接修改参数矩阵，无返回值\n",
    "def addScaledRow(M, r1, r2, scale):\n",
    "    if scale != 0:\n",
    "        for i in range(len(M[r1])):\n",
    "            M[r1][i] += M[r2][i]*scale\n",
    "    else:\n",
    "        raise ValueError(\"scale is 0\")"
   ]
  },
  {
   "cell_type": "code",
   "execution_count": 18,
   "metadata": {},
   "outputs": [
    {
     "name": "stderr",
     "output_type": "stream",
     "text": [
      ".\n",
      "----------------------------------------------------------------------\n",
      "Ran 1 test in 0.002s\n",
      "\n",
      "OK\n"
     ]
    }
   ],
   "source": [
    "# 运行以下代码测试你的 addScaledRow 函数\n",
    "%run -i -e test.py LinearRegressionTestCase.test_addScaledRow"
   ]
  },
  {
   "cell_type": "markdown",
   "metadata": {},
   "source": [
    "## 2.3 Gaussian Jordan 消元法求解 Ax = b\n",
    "### 2.3.1 算法\n",
    "步骤1 检查A，b是否行数相同\n",
    "\n",
    "步骤2 构造增广矩阵Ab\n",
    "\n",
    "步骤3 逐列转换Ab为化简行阶梯形矩阵 中文维基链接\n",
    "\n",
    "    对于Ab的每一列（最后一列除外）    \n",
    "        当前列为列c    \n",
    "        寻找列c中 对角线以及对角线以下所有元素（行 c~N）的绝对值的最大值    \n",
    "        如果绝对值最大值为0    \n",
    "            那么A为奇异矩阵，返回None (你可以在选做问题2.4中证明为什么这里A一定是奇异矩阵)    \n",
    "        否则    \n",
    "            使用第一个行变换，将绝对值最大值所在行交换到对角线元素所在行（行c）     \n",
    "            使用第二个行变换，将列c的对角线元素缩放为1    \n",
    "            多次使用第三个行变换，将列c的其他元素消为0    \n",
    "\n",
    "步骤4 返回Ab的最后一列    \n",
    "\n",
    "注： 我们并没有按照常规方法先把矩阵转化为行阶梯形矩阵，再转换为化简行阶梯形矩阵，而是一步到位。如果你熟悉常规方法的话，可以思考一下两者的等价性。"
   ]
  },
  {
   "cell_type": "markdown",
   "metadata": {},
   "source": [
    "### 2.3.2 算法推演\n",
    "为了充分了解Gaussian Jordan消元法的计算流程，请根据Gaussian Jordan消元法，分别手动推演矩阵A为可逆矩阵，矩阵A为奇异矩阵两种情况。"
   ]
  },
  {
   "cell_type": "code",
   "execution_count": 19,
   "metadata": {},
   "outputs": [
    {
     "name": "stdout",
     "output_type": "stream",
     "text": [
      "  7, -1,  7 ||  1 \n",
      "  3,  5, -1 ||  1 \n",
      "  0,  0,  0 ||  1 \n"
     ]
    }
   ],
   "source": [
    "from helper import *\n",
    "# 不要修改这里！\n",
    "A = generateMatrix(3,seed,singular=True)\n",
    "b = np.ones(shape=(3,1),dtype=int)\n",
    "Ab = augmentMatrix(A.tolist(),b.tolist()) # 请确保你的增广矩阵已经写好了\n",
    "printInMatrixFormat(Ab,padding=3,truncating=0)"
   ]
  },
  {
   "cell_type": "markdown",
   "metadata": {},
   "source": [
    "$Ab = \\left\\lgroup \\matrix{7 & -1 & 7 & 1\\cr 3 & 5 & -1&1\\cr 0&0&0&1\\cr} \\right\\rgroup\\\\\n",
    "-->\\left\\lgroup \\matrix{1 & \\frac{-1}{7} & 1 & \\frac{1}{7}\\cr 0 & \\frac{38}{7} & -4&\\frac{4}{7}\\cr 0&0&0&1\\cr} \\right\\rgroup\\\\\n",
    "-->\\left\\lgroup \\matrix{1 & 0 & \\frac{17}{19} & \\frac{21}{133}\\cr 0 & 1 & \\frac{-14}{19}&\\frac{2}{19}\\cr 0&0&0&1\\cr} \\right\\rgroup\\\\\n",
    "-->\\left\\lgroup \\matrix{1 & 0 & \\frac{17}{19} & 0\\cr 0 & 1 & \\frac{-14}{19}&0\\cr 0&0&0&1\\cr} \\right\\rgroup\n",
    "$"
   ]
  },
  {
   "cell_type": "code",
   "execution_count": 20,
   "metadata": {},
   "outputs": [
    {
     "name": "stdout",
     "output_type": "stream",
     "text": [
      " -7,  4,  5 ||  1 \n",
      " -4,  6, -1 ||  1 \n",
      " -2, -6, -3 ||  1 \n"
     ]
    }
   ],
   "source": [
    "from helper import *\n",
    "# 不要修改这里！\n",
    "A = generateMatrix(3,seed,singular=False)\n",
    "b = np.ones(shape=(3,1),dtype=int) # it doesn't matter\n",
    "Ab = augmentMatrix(A.tolist(),b.tolist()) # 请确保你的增广矩阵已经写好了\n",
    "printInMatrixFormat(Ab,padding=3,truncating=0)"
   ]
  },
  {
   "cell_type": "markdown",
   "metadata": {},
   "source": [
    "$Ab = \\left\\lgroup \\matrix{-7 & 4 & 5 & 1\\cr -4 & 6 & -1&1\\cr -2&-6&-3&1\\cr} \\right\\rgroup\\\\\n",
    "-->\\left\\lgroup \\matrix{1 & \\frac{-4}{7} & \\frac{-5}{7} & \\frac{-1}{7}\\cr 0 & \\frac{26}{7} & \\frac{-27}{7}&\\frac{3}{7}\\cr 0&\\frac{-50}{7}&\\frac{-31}{7}&\\frac{5}{7}\\cr} \\right\\rgroup\\\\\n",
    "-->\\left\\lgroup \\matrix{1 & 0 & \\frac{-9}{25} & \\frac{-1}{5}\\cr 0 & 1 & \\frac{31}{50}&\\frac{-1}{10}\\cr 0&0&\\frac{-154}{25}&\\frac{4}{5}\\cr} \\right\\rgroup\\\\\n",
    "-->\\left\\lgroup \\matrix{1 & 0 & 0 & \\frac{-19}{77}\\cr 0 & 1 & 0&\\frac{-3}{154}\\cr 0&0&1&\\frac{-10}{77}\\cr} \\right\\rgroup\n",
    "$\n"
   ]
  },
  {
   "cell_type": "markdown",
   "metadata": {},
   "source": [
    "### 2.3.3 实现 Gaussian Jordan 消元法"
   ]
  },
  {
   "cell_type": "code",
   "execution_count": 21,
   "metadata": {},
   "outputs": [],
   "source": [
    "# TODO 实现 Gaussain Jordan 方法求解 Ax = b\n",
    "\n",
    "\"\"\" Gaussian Jordan 方法求解 Ax = b.\n",
    "    参数\n",
    "        A: 方阵 \n",
    "        b: 列向量\n",
    "        decPts: 四舍五入位数，默认为4\n",
    "        epsilon: 判读是否为0的阈值，默认 1.0e-16\n",
    "        \n",
    "    返回列向量 x 使得 Ax = b \n",
    "    返回None，如果 A，b 高度不同\n",
    "    返回None，如果 A 为奇异矩阵\n",
    "\"\"\"\n",
    "def gj_Solve(A, b, decPts=4, epsilon=1.0e-16):\n",
    "    if len(A) != len(b):    #如果 A，b 高度不同，返回None\n",
    "        return None\n",
    "    M = augmentMatrix(A,b)\n",
    "    #print M\n",
    "    for i in range(len(M[0])-1):    #取第i列\n",
    "        #print 'i:',i\n",
    "        value_list = [0]*(len(M)-i)\n",
    "        for j in range(i,len(M)):\n",
    "            value = M[j][i]\n",
    "            value_list[j-i] = abs(value)\n",
    "        #print 'value_list:',value_list    #对角线及对角线以下值绝对值的列表\n",
    "        max_value = max(value_list)    #取第i列对角线及以下数值绝对值的最大值\n",
    "        #print 'max_value:',max_value\n",
    "        if max_value <= epsilon:    #如果最大值为0，则A为奇异矩阵，返回None\n",
    "            return None\n",
    "        else:\n",
    "            for r in range(len(value_list)):\n",
    "                if value_list[r] == max_value:    #取绝对值最大值所在行\n",
    "                    #print '最大值所在行:',M[r+i]\n",
    "                    #print '第i行:',M[i]\n",
    "                    swapRows(M, i, r+i)    #绝对值最大值所在行与i行交换\n",
    "                    #print '交换后的第i行:',M[i]\n",
    "                    scaleRow(M, i, 1.0/M[i][i])     #1.0/M[i][i] 第i行对角线值变为1\n",
    "                    #print '对角线值为1的第i行',M[i]\n",
    "                    for l in range(len(M)):    #第i列除对角线值外的元素变为0\n",
    "                        if l != i:\n",
    "                            #print '第l行:',l\n",
    "                            #print \"第l行\",M[l]\n",
    "                            #print M[l][i]\n",
    "                            if abs(M[l][i]) <= epsilon:    #M[l][i]值为0\n",
    "                                continue\n",
    "                            addScaledRow(M, l, i, -M[l][i])    #第i列第l个值变为0\n",
    "                            #print '第i列第l个值为0的l行:',M[l]\n",
    "                        else:\n",
    "                            continue\n",
    "                    #print M    #每一列循环后的M\n",
    "                    break    #退出r的循环\n",
    "    x = [0]*len(b)\n",
    "    for i in range(len(M)):\n",
    "        x[i] = M[i][-1]\n",
    "    matxRound([x], decPts=4)\n",
    "        \n",
    "    return transpose([x])\n",
    "#gj_Solve(A, b, decPts=4, epsilon=1.0e-16)"
   ]
  },
  {
   "cell_type": "code",
   "execution_count": 22,
   "metadata": {},
   "outputs": [
    {
     "name": "stderr",
     "output_type": "stream",
     "text": [
      ".\n",
      "----------------------------------------------------------------------\n",
      "Ran 1 test in 2.784s\n",
      "\n",
      "OK\n"
     ]
    }
   ],
   "source": [
    "# 运行以下代码测试你的 gj_Solve 函数\n",
    "%run -i -e test.py LinearRegressionTestCase.test_gj_Solve"
   ]
  },
  {
   "cell_type": "markdown",
   "metadata": {},
   "source": [
    "## (选做) 2.4 算法正确判断了奇异矩阵：\n",
    "在算法的步骤3 中，如果发现某一列对角线和对角线以下所有元素都为0，那么则断定这个矩阵为奇异矩阵。  \n",
    "\n",
    "我们用正式的语言描述这个命题，并证明为真。  \n",
    "\n",
    "证明下面的命题：  \n",
    "\n",
    "如果方阵 A 可以被分为4个部分:  \n",
    "\n",
    "$ A = \\begin{bmatrix}\n",
    "    I   ,  X \\\\\n",
    "    Z   ,  Y \\\\\n",
    "\\end{bmatrix} , \\text{其中 I 为单位矩阵，Z 为全0矩阵，Y 的第一列全0}$，\n",
    "那么A为奇异矩阵。  \n",
    "\n",
    "提示：从多种角度都可以完成证明  \n",
    "\n",
    "考虑矩阵 Y 和 矩阵 A 的秩  \n",
    "\n",
    "考虑矩阵 Y 和 矩阵 A 的行列式  \n",
    "\n",
    "考虑矩阵 A 的某一列是其他列的线性组合  \n",
    "\n",
    "TODO 证明：  \n",
    "1、设矩阵Y的第一列为矩阵A的第i列。因为矩阵I为单位矩阵，矩阵Y的第一列全为0，所以矩阵A的第i列为矩阵A第1列至第i-1列的线性组合。  \n",
    "\n",
    "2、矩阵A的第i列可以通过线性变换，使全部元素变为0，线性变换后的矩阵为D    \n",
    "\n",
    "3、因为：把行列式的某一行（列）的各元素乘以同一个值，然后加到另一行（列）对应的元素上，行列式的值不变。所以：矩阵A的行列式等于矩阵D的行列   \n",
    "\n",
    "4、将矩阵D的行列式的第i行的所有元素乘以2，等于用2乘以矩阵D的行列式；又因为第i行的所有元素为0，乘以2后仍为零，依然等于矩阵D的行列式。所以：2|D|=|D|，所以|D|=0    \n",
    "\n",
    "5、所以|A|=0，所以矩阵A为奇异矩阵"
   ]
  },
  {
   "cell_type": "markdown",
   "metadata": {},
   "source": [
    "# 3 线性回归    \n",
    "\n",
    "## 3.1 随机生成样本点"
   ]
  },
  {
   "cell_type": "code",
   "execution_count": 23,
   "metadata": {},
   "outputs": [
    {
     "data": {
      "image/png": "[encoded data removed]",
      "text/plain": [
       "<matplotlib.figure.Figure at 0x1067ee8d0>"
      ]
     },
     "metadata": {},
     "output_type": "display_data"
    }
   ],
   "source": [
    "\n",
    "# 不要修改这里！\n",
    "# 运行一次就够了！\n",
    "from helper import *\n",
    "from matplotlib import pyplot as plt\n",
    "%matplotlib inline\n",
    "\n",
    "X,Y = generatePoints(seed,num=100)\n",
    "\n",
    "## 可视化\n",
    "plt.xlim((-5,5))\n",
    "plt.xlabel('x',fontsize=18)\n",
    "plt.ylabel('y',fontsize=18)\n",
    "plt.scatter(X,Y,c='b')\n",
    "plt.show()"
   ]
  },
  {
   "cell_type": "markdown",
   "metadata": {},
   "source": [
    "## 3.2 拟合一条直线    \n",
    "\n",
    "### 3.2.1 猜测一条直线"
   ]
  },
  {
   "cell_type": "code",
   "execution_count": 24,
   "metadata": {},
   "outputs": [
    {
     "name": "stderr",
     "output_type": "stream",
     "text": [
      "/Library/Frameworks/Python.framework/Versions/2.7/lib/python2.7/site-packages/matplotlib/cbook/deprecation.py:106: MatplotlibDeprecationWarning: Adding an axes using the same arguments as a previous axes currently reuses the earlier instance.  In a future version, a new instance will always be created and returned.  Meanwhile, this warning can be suppressed, and the future behavior ensured, by passing a unique label to each axes instance.\n",
      "  warnings.warn(message, mplDeprecation, stacklevel=1)\n"
     ]
    },
    {
     "data": {
      "image/png": "[encoded data removed]",
      "text/plain": [
       "<matplotlib.figure.Figure at 0x10816d550>"
      ]
     },
     "metadata": {},
     "output_type": "display_data"
    }
   ],
   "source": [
    "#TODO 请选择最适合的直线 y = mx + b\n",
    "m1 = 1\n",
    "b1 = 1\n",
    "\n",
    "# 不要修改这里！\n",
    "plt.xlim((-5,5))\n",
    "x_vals = plt.axes().get_xlim()\n",
    "y_vals = [m1*x+b1 for x in x_vals]\n",
    "plt.plot(x_vals, y_vals, '-', color='r')\n",
    "\n",
    "plt.xlabel('x',fontsize=18)\n",
    "plt.ylabel('y',fontsize=18)\n",
    "plt.scatter(X,Y,c='b')\n",
    "\n",
    "plt.show()"
   ]
  },
  {
   "cell_type": "markdown",
   "metadata": {},
   "source": [
    "### 3.2.2 计算平均平方误差 (MSE)    \n",
    "\n",
    "    我们要编程计算所选直线的平均平方误差(MSE), 即数据集中每个点到直线的Y方向距离的平方的平均数，表达式如下： \n",
    "$$\n",
    "MSE = \\frac{1}{n}\\sum_{i=1}^{n}{(y_i - mx_i - b)^2}\n",
    "$$"
   ]
  },
  {
   "cell_type": "code",
   "execution_count": 25,
   "metadata": {
    "scrolled": true
   },
   "outputs": [
    {
     "name": "stdout",
     "output_type": "stream",
     "text": [
      "300.115486819\n"
     ]
    }
   ],
   "source": [
    "# TODO 实现以下函数并输出所选直线的MSE\n",
    "\n",
    "def calculateMSE(X,Y,m,b):\n",
    "    sum_value = 0\n",
    "    for i in range(len(X)):\n",
    "        distance_square = (Y[i]-m*X[i]-b)**2\n",
    "        sum_value += distance_square\n",
    "    return sum_value/len(X)\n",
    "\n",
    "print(calculateMSE(X,Y,m1,b1))"
   ]
  },
  {
   "cell_type": "markdown",
   "metadata": {},
   "source": [
    "### 3.2.3 调整参数 $m, b$ 来获得最小的平方平均误差\n",
    "你可以调整3.2.1中的参数 $m1,b1$ 让蓝点均匀覆盖在红线周围，然后微调 $m1, b1$ 让MSE最小。"
   ]
  },
  {
   "cell_type": "markdown",
   "metadata": {},
   "source": [
    "## 3.3 (选做) 找到参数 $m, b$ 使得平方平均误差最小"
   ]
  },
  {
   "cell_type": "markdown",
   "metadata": {},
   "source": [
    "我们要用三个点 $(1,1), (2,2), (3,2)$ 来拟合一条直线 y = m*x + b, 请写出"
   ]
  },
  {
   "cell_type": "markdown",
   "metadata": {},
   "source": [
    "目标函数\n",
    "$$\n",
    "E = \\frac{1}{2}\\sum_{i=1}^{n}{(y_i - mx_i - b)^2}\n",
    "$$"
   ]
  },
  {
   "cell_type": "markdown",
   "metadata": {},
   "source": [
    "二元二次方程组\n",
    "$$\n",
    "\\begin{cases}\n",
    "\\displaystyle\n",
    "\\sum_{i=1}^{n}{-x_i(y_i - mx_i - b)} =0 \\\\\n",
    "\\\\\n",
    "\\displaystyle\n",
    "\\sum_{i=1}^{n}{-(y_i - mx_i - b)} =0 \\\\\n",
    "\\end{cases}\n",
    "$$"
   ]
  },
  {
   "cell_type": "markdown",
   "metadata": {},
   "source": [
    "并求解最优参数 $m, b$\n",
    "$$\n",
    "m = -\\frac{1}{3}\\\\    b = \\frac{23}{9}\n",
    "$$"
   ]
  },
  {
   "cell_type": "markdown",
   "metadata": {},
   "source": [
    "### 3.3.3 将方程组写成矩阵形式\n",
    "我们的二元二次方程组可以用更简洁的矩阵形式表达，将方程组写成矩阵形式更有利于我们使用 Gaussian Jordan 消元法求解。\n",
    "\n",
    "请证明 $$\n",
    "\\begin{bmatrix}\n",
    "    \\frac{\\partial E}{\\partial m} \\\\\n",
    "    \\frac{\\partial E}{\\partial b} \n",
    "\\end{bmatrix} = X^TXh - X^TY\n",
    "$$\n",
    "\n",
    "其中向量 $Y$, 矩阵 $X$ 和 向量 $h$ 分别为 : $$\n",
    "Y =  \\begin{bmatrix}\n",
    "    y_1 \\\\\n",
    "    y_2 \\\\\n",
    "    ... \\\\\n",
    "    y_n\n",
    "\\end{bmatrix}\n",
    ",\n",
    "X =  \\begin{bmatrix}\n",
    "    x_1; 1 \\\\\n",
    "    x_2; 1\\\\\n",
    "    ...; ...\\\\\n",
    "    x_n; 1 \\\\\n",
    "\\end{bmatrix},\n",
    "h =  \\begin{bmatrix}\n",
    "    m \\\\\n",
    "    b \\\\\n",
    "\\end{bmatrix}\n",
    "$$"
   ]
  },
  {
   "cell_type": "markdown",
   "metadata": {},
   "source": [
    "##  3.4 求解 $X^TXh = X^TY$\n",
    "### 在3.3 中，我们知道线性回归问题等价于求解 $X^TXh = X^TY$ (如果你选择不做3.3，就勇敢的相信吧，哈哈)"
   ]
  },
  {
   "cell_type": "code",
   "execution_count": 26,
   "metadata": {},
   "outputs": [
    {
     "name": "stdout",
     "output_type": "stream",
     "text": [
      "(-2.8231, 13.7472)\n"
     ]
    }
   ],
   "source": [
    "# TODO 实现线性回归\n",
    "'''\n",
    "参数：X, Y 存储着一一对应的横坐标与纵坐标的两个一维数组\n",
    "返回：m，b 浮点数\n",
    "'''\n",
    "def linearRegression(X,Y):\n",
    "    matrix_X = []\n",
    "    matrix_Y = []\n",
    "    for x in X:\n",
    "        matrix_X.append([x,1])\n",
    "    for y in Y:\n",
    "        matrix_Y.append([y])\n",
    "    trans_X = transpose(matrix_X)\n",
    "    A = matxMultiply(trans_X, matrix_X)\n",
    "    b = matxMultiply(trans_X, matrix_Y)\n",
    "    h = gj_Solve(A, b, decPts=4, epsilon=1.0e-16)\n",
    "    m = h[0][0]\n",
    "    b = h[1][0]\n",
    "    return m,b\n",
    "\n",
    "m2,b2 = linearRegression(X,Y)\n",
    "assert isinstance(m2,float),\"m is not a float\"\n",
    "assert isinstance(b2,float),\"b is not a float\"\n",
    "print(m2,b2)"
   ]
  },
  {
   "cell_type": "code",
   "execution_count": 27,
   "metadata": {},
   "outputs": [
    {
     "data": {
      "image/png": "[encoded data removed]",
      "text/plain": [
       "<matplotlib.figure.Figure at 0x1082ed250>"
      ]
     },
     "metadata": {},
     "output_type": "display_data"
    }
   ],
   "source": [
    "# 请不要修改下面的代码\n",
    "x1,x2 = -5,5\n",
    "y1,y2 = x1*m2+b2, x2*m2+b2\n",
    "\n",
    "plt.xlim((-5,5))\n",
    "plt.xlabel('x',fontsize=18)\n",
    "plt.ylabel('y',fontsize=18)\n",
    "plt.scatter(X,Y,c='b')\n",
    "plt.plot((x1,x2),(y1,y2),'r')\n",
    "plt.title('y = {m:.4f}x + {b:.4f}'.format(m=m2,b=b2))\n",
    "plt.show()"
   ]
  },
  {
   "cell_type": "code",
   "execution_count": 28,
   "metadata": {},
   "outputs": [
    {
     "name": "stdout",
     "output_type": "stream",
     "text": [
      "1.05730833597\n"
     ]
    }
   ],
   "source": [
    "print(calculateMSE(X,Y,m2,b2))"
   ]
  }
 ],
 "metadata": {
  "kernelspec": {
   "display_name": "Python 2",
   "language": "python",
   "name": "python2"
  },
  "language_info": {
   "codemirror_mode": {
    "name": "ipython",
    "version": 2
   },
   "file_extension": ".py",
   "mimetype": "text/x-python",
   "name": "python",
   "nbconvert_exporter": "python",
   "pygments_lexer": "ipython2",
   "version": "2.7.14"
  }
 },
 "nbformat": 4,
 "nbformat_minor": 2
}
