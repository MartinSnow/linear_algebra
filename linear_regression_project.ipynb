{
 "cells": [
  {
   "cell_type": "markdown",
   "metadata": {},
   "source": [
    "# 欢迎来到线性回归项目¶\n",
    "若项目中的题目有困难没完成也没关系，我们鼓励你带着问题提交项目，评审人会给予你诸多帮助。    \n",
    "\n",
    "所有选做题都可以不做，不影响项目通过。如果你做了，那么项目评审会帮你批改，也会因为选做部分做错而判定为不通过。    \n",
    "\n",
    "其中非代码题可以提交手写后扫描的 pdf 文件，或使用 Latex 在文档中直接回答。"
   ]
  },
  {
   "cell_type": "markdown",
   "metadata": {},
   "source": [
    "# 1 矩阵运算    \n",
    "\n",
    "## 1.1 创建一个 4*4 的单位矩阵"
   ]
  },
  {
   "cell_type": "code",
   "execution_count": 22,
   "metadata": {},
   "outputs": [],
   "source": [
    "I = [[1,9,8,7],\n",
    "     [1,1,2,8],\n",
    "     [2,0,1,7],\n",
    "     [0,4,2,8]]"
   ]
  },
  {
   "cell_type": "markdown",
   "metadata": {},
   "source": [
    "## 1.2 返回矩阵的行数和列数"
   ]
  },
  {
   "cell_type": "code",
   "execution_count": 5,
   "metadata": {},
   "outputs": [],
   "source": [
    "# TODO 返回矩阵的行数和列数\n",
    "def shape(M):\n",
    "    r = len(M)\n",
    "    c = len(M[0])\n",
    "    return r,c"
   ]
  },
  {
   "cell_type": "code",
   "execution_count": 6,
   "metadata": {
    "scrolled": true
   },
   "outputs": [
    {
     "name": "stderr",
     "output_type": "stream",
     "text": [
      ".\n",
      "----------------------------------------------------------------------\n",
      "Ran 1 test in 0.001s\n",
      "\n",
      "OK\n"
     ]
    }
   ],
   "source": [
    "# 运行以下代码测试你的 shape 函数\n",
    "%run -i -e test.py LinearRegressionTestCase.test_shape"
   ]
  },
  {
   "cell_type": "markdown",
   "metadata": {},
   "source": [
    "## 1.3 每个元素四舍五入到特定小数数位"
   ]
  },
  {
   "cell_type": "code",
   "execution_count": 7,
   "metadata": {},
   "outputs": [],
   "source": [
    "# TODO 每个元素四舍五入到特定小数数位\n",
    "# 直接修改参数矩阵，无返回值\n",
    "def matxRound(M, decPts=4):\n",
    "    for p in M:\n",
    "        for index in range(len(M[0])):\n",
    "            p[index] = round(p[index], decPts)\n",
    "    pass"
   ]
  },
  {
   "cell_type": "code",
   "execution_count": 8,
   "metadata": {},
   "outputs": [
    {
     "name": "stderr",
     "output_type": "stream",
     "text": [
      ".\n",
      "----------------------------------------------------------------------\n",
      "Ran 1 test in 0.059s\n",
      "\n",
      "OK\n"
     ]
    }
   ],
   "source": [
    "# 运行以下代码测试你的 matxRound 函数\n",
    "%run -i -e test.py LinearRegressionTestCase.test_matxRound"
   ]
  },
  {
   "cell_type": "markdown",
   "metadata": {},
   "source": [
    "## 1.4 计算矩阵的转置"
   ]
  },
  {
   "cell_type": "code",
   "execution_count": 9,
   "metadata": {},
   "outputs": [],
   "source": [
    "# TODO 计算矩阵的转置\n",
    "def transpose(M):\n",
    "    trans_M = zip(*M)\n",
    "    return trans_M"
   ]
  },
  {
   "cell_type": "code",
   "execution_count": 10,
   "metadata": {},
   "outputs": [
    {
     "name": "stderr",
     "output_type": "stream",
     "text": [
      ".\n",
      "----------------------------------------------------------------------\n",
      "Ran 1 test in 0.006s\n",
      "\n",
      "OK\n"
     ]
    }
   ],
   "source": [
    "# 运行以下代码测试你的 transpose 函数\n",
    "%run -i -e test.py LinearRegressionTestCase.test_transpose"
   ]
  },
  {
   "cell_type": "markdown",
   "metadata": {},
   "source": [
    "## 1.5 计算矩阵乘法 AB"
   ]
  },
  {
   "cell_type": "code",
   "execution_count": 23,
   "metadata": {},
   "outputs": [],
   "source": [
    "# TODO 计算矩阵乘法 AB，如果无法相乘则raise ValueError\n",
    "def matxMultiply(A, B):\n",
    "    r_A = len(A)\n",
    "    c_A = len(A[0])\n",
    "    r_B = len(B)\n",
    "    c_B = len(B[0])\n",
    "    multi_C = [[0]*c_B for i in range(r_A)]\n",
    "    if c_A != r_B:\n",
    "        raise ValueError(\"A can't mutiply with B\")\n",
    "    else:\n",
    "        for i in range(r_A):\n",
    "            for j in range(c_B):\n",
    "                for k in range(c_A):\n",
    "                    multi_C[i][j] += A[i][k]*B[k][j]\n",
    "    return multi_C"
   ]
  },
  {
   "cell_type": "code",
   "execution_count": 24,
   "metadata": {},
   "outputs": [
    {
     "name": "stderr",
     "output_type": "stream",
     "text": [
      ".\n",
      "----------------------------------------------------------------------\n",
      "Ran 1 test in 0.047s\n",
      "\n",
      "OK\n"
     ]
    }
   ],
   "source": [
    "# 运行以下代码测试你的 matxMultiply 函数\n",
    "%run -i -e test.py LinearRegressionTestCase.test_matxMultiply"
   ]
  },
  {
   "cell_type": "markdown",
   "metadata": {},
   "source": [
    "# 2 Gaussign Jordan 消元法    \n",
    "\n",
    "## 2.1 构造增广矩阵"
   ]
  },
  {
   "cell_type": "code",
   "execution_count": 3,
   "metadata": {},
   "outputs": [],
   "source": [
    "# TODO 构造增广矩阵，假设A，b行数相同\n",
    "def augmentMatrix(A, b):\n",
    "    result = [[0]*(len(A[0])+1) for i in range(len(A))]\n",
    "    for i in range(len(A)):\n",
    "        for j in range(len(A[0])+1):\n",
    "            if j < len(A[0]):\n",
    "                result[i][j] = A[i][j]\n",
    "            else:\n",
    "                result[i][j] = b[i][0]\n",
    "    return result"
   ]
  },
  {
   "cell_type": "code",
   "execution_count": 4,
   "metadata": {},
   "outputs": [
    {
     "name": "stderr",
     "output_type": "stream",
     "text": [
      ".\n",
      "----------------------------------------------------------------------\n",
      "Ran 1 test in 0.006s\n",
      "\n",
      "OK\n"
     ]
    }
   ],
   "source": [
    "# 运行以下代码测试你的 augmentMatrix 函数\n",
    "%run -i -e test.py LinearRegressionTestCase.test_augmentMatrix"
   ]
  },
  {
   "cell_type": "markdown",
   "metadata": {},
   "source": [
    "## 2.2 初等行变换    \n",
    "\n",
    "    交换两行\n",
    "    把某行乘以一个非零常数\n",
    "    把某行加上另一行的若干倍："
   ]
  },
  {
   "cell_type": "code",
   "execution_count": 5,
   "metadata": {},
   "outputs": [],
   "source": [
    "# TODO r1 <---> r2\n",
    "# 直接修改参数矩阵，无返回值\n",
    "def swapRows(M, r1, r2):\n",
    "    M[r1], M[r2] = M[r2], M[r1]"
   ]
  },
  {
   "cell_type": "code",
   "execution_count": 6,
   "metadata": {},
   "outputs": [
    {
     "name": "stderr",
     "output_type": "stream",
     "text": [
      ".\n",
      "----------------------------------------------------------------------\n",
      "Ran 1 test in 0.002s\n",
      "\n",
      "OK\n"
     ]
    }
   ],
   "source": [
    "# 运行以下代码测试你的 swapRows 函数\n",
    "%run -i -e test.py LinearRegressionTestCase.test_swapRows"
   ]
  },
  {
   "cell_type": "code",
   "execution_count": 5,
   "metadata": {},
   "outputs": [],
   "source": [
    "# TODO r1 <--- r1 * scale\n",
    "# scale为0是非法输入，要求 raise ValueError\n",
    "# 直接修改参数矩阵，无返回值\n",
    "def scaleRow(M, r, scale):\n",
    "    if scale != 0:\n",
    "        for i in range(len(M[r])):\n",
    "            M[r][i] = M[r][i]*scale\n",
    "    else:\n",
    "        raise ValueError(\"scale is 0\")"
   ]
  },
  {
   "cell_type": "code",
   "execution_count": 6,
   "metadata": {},
   "outputs": [
    {
     "name": "stderr",
     "output_type": "stream",
     "text": [
      ".\n",
      "----------------------------------------------------------------------\n",
      "Ran 1 test in 0.002s\n",
      "\n",
      "OK\n"
     ]
    }
   ],
   "source": [
    "\n",
    "# 运行以下代码测试你的 scaleRow 函数\n",
    "%run -i -e test.py LinearRegressionTestCase.test_scaleRow"
   ]
  },
  {
   "cell_type": "code",
   "execution_count": 7,
   "metadata": {},
   "outputs": [],
   "source": [
    "# TODO r1 <--- r1 + r2*scale\n",
    "# 直接修改参数矩阵，无返回值\n",
    "def addScaledRow(M, r1, r2, scale):\n",
    "    if scale != 0:\n",
    "        for i in range(len(M[r1])):\n",
    "            M[r1][i] += M[r2][i]*scale\n",
    "    else:\n",
    "        raise ValueError(\"scale is 0\")"
   ]
  },
  {
   "cell_type": "code",
   "execution_count": 8,
   "metadata": {},
   "outputs": [
    {
     "name": "stderr",
     "output_type": "stream",
     "text": [
      ".\n",
      "----------------------------------------------------------------------\n",
      "Ran 1 test in 0.004s\n",
      "\n",
      "OK\n"
     ]
    }
   ],
   "source": [
    "# 运行以下代码测试你的 addScaledRow 函数\n",
    "%run -i -e test.py LinearRegressionTestCase.test_addScaledRow"
   ]
  },
  {
   "cell_type": "markdown",
   "metadata": {},
   "source": [
    "## 2.3 Gaussian Jordan 消元法求解 Ax = b"
   ]
  },
  {
   "cell_type": "code",
   "execution_count": 41,
   "metadata": {},
   "outputs": [
    {
     "name": "stdout",
     "output_type": "stream",
     "text": [
      " -7,  4,  5 ||  1 \n",
      " -4,  6, -1 ||  1 \n",
      " -2, -6, -3 ||  1 \n",
      "[[Fraction(1, 1), Fraction(-4, 7), Fraction(-5, 7), Fraction(-1, 7)], [Fraction(0, 1), Fraction(26, 7), Fraction(-27, 7), Fraction(3, 7)], [Fraction(0, 1), Fraction(-50, 7), Fraction(-31, 7), Fraction(5, 7)]]\n",
      "[[Fraction(1, 1), Fraction(0, 1), Fraction(-9, 25), Fraction(-1, 5)], [Fraction(0, 1), Fraction(1, 1), Fraction(31, 50), Fraction(-1, 10)], [Fraction(0, 1), Fraction(0, 1), Fraction(-154, 25), Fraction(4, 5)]]\n",
      "[[Fraction(1, 1), Fraction(0, 1), Fraction(0, 1), Fraction(-19, 77)], [Fraction(0, 1), Fraction(1, 1), Fraction(0, 1), Fraction(-3, 154)], [Fraction(0, 1), Fraction(0, 1), Fraction(1, 1), Fraction(-10, 77)]]\n"
     ]
    }
   ],
   "source": [
    "# 不要修改这里！\n",
    "from helper import *\n",
    "from fractions import Fraction\n",
    "A = generateMatrix(3,5,singular=False)\n",
    "b = np.ones(shape=(3,1),dtype=int) # it doesn't matter\n",
    "Ab = augmentMatrix(A.tolist(),b.tolist()) # 请确保你的增广矩阵已经写好了\n",
    "printInMatrixFormat(Ab,padding=3,truncating=0)\n",
    "\n",
    "def swapRows(M, r1, r2):\n",
    "    M[r1], M[r2] = M[r2], M[r1]\n",
    "    \n",
    "def scaleRow(M, r, scale):\n",
    "    if scale != 0:\n",
    "        for i in range(len(M[r])):\n",
    "            M[r][i] = M[r][i]*scale\n",
    "    else:\n",
    "        raise ValueError(\"scale is 0\")\n",
    "\n",
    "def addScaledRow(M, r1, r2, scale):\n",
    "    if scale != 0:\n",
    "        for i in range(len(M[r1])):\n",
    "            M[r1][i] += M[r2][i]*scale\n",
    "    else:\n",
    "        raise ValueError(\"scale is 0\")\n",
    "\n",
    "def gj_Solve(A, b, decPts, epsilon):\n",
    "    if len(A) != len(b):    #如果 A，b 高度不同，返回None\n",
    "        return None\n",
    "    M = augmentMatrix(A.tolist(),b.tolist())\n",
    "    #print M\n",
    "    for i in range(len(M[0])-1):    #取第i列\n",
    "        #print 'i:',i\n",
    "        value_list = [0]*(len(M)-i)\n",
    "        for j in range(i,len(M)):\n",
    "            value = M[j][i]\n",
    "            value_list[j-i] = abs(value)\n",
    "        #print 'value_list:',value_list    #对角线及对角线以下值绝对值的列表\n",
    "        max_value = max(value_list)    #取第i列对角线及以下数值绝对值的最大值\n",
    "        #print 'max_value:',max_value\n",
    "        if max_value <= epsilon:    #如果最大值为0，则A为奇异矩阵，返回None\n",
    "            return None\n",
    "        else:\n",
    "            for r in range(len(value_list)):\n",
    "                if value_list[r] == max_value:    #取绝对值最大值所在行\n",
    "                    #print '最大值所在行:',M[r+i]\n",
    "                    #print '第i行:',M[i]\n",
    "                    swapRows(M, i, r+i)    #绝对值最大值所在行与i行交换\n",
    "                    #print '交换后的第i行:',M[i]\n",
    "                    scaleRow(M, i, Fraction(1, M[i][i]))     #1.0/M[i][i] 第i行对角线值变为1\n",
    "                    #print '对角线值为1的第i行',M[i]\n",
    "                    for l in range(len(M)):    #第i列除对角线值外的元素变为0\n",
    "                        if l != i:\n",
    "                            #print '第l行:',l\n",
    "                            #print \"第l行\",M[l]\n",
    "                            addScaledRow(M, l, i, -M[l][i])    #第i列第l个值变为0\n",
    "                            #print '第i列第l个值为0的l行:',M[l]\n",
    "                        else:\n",
    "                            continue\n",
    "                    print M    #每一列循环后的M\n",
    "                    break    #退出r的循环\n",
    "gj_Solve(A, b, decPts=4, epsilon = 1.0e-16)"
   ]
  },
  {
   "cell_type": "markdown",
   "metadata": {},
   "source": [
    "$Ab = \\left\\lgroup \\matrix{-7 & 4 & 5 & 1\\cr -4 & 6 & -1&1\\cr -2&-6&-3&1\\cr} \\right\\rgroup\\\\\n",
    "-->\\left\\lgroup \\matrix{1 & \\frac{-4}{7} & \\frac{-5}{7} & \\frac{-1}{7}\\cr 0 & \\frac{26}{7} & \\frac{-27}{7}&\\frac{3}{7}\\cr 0&\\frac{-50}{7}&\\frac{-31}{7}&\\frac{5}{7}\\cr} \\right\\rgroup\\\\\n",
    "-->\\left\\lgroup \\matrix{1 & 0 & \\frac{-9}{25} & \\frac{-1}{5}\\cr 0 & 1 & \\frac{31}{50}&\\frac{-1}{10}\\cr 0&0&\\frac{-154}{25}&\\frac{4}{5}\\cr} \\right\\rgroup\\\\\n",
    "-->\\left\\lgroup \\matrix{1 & 0 & 0 & \\frac{-19}{77}\\cr 0 & 1 & 0&\\frac{-3}{154}\\cr 0&0&1&\\frac{-10}{77}\\cr} \\right\\rgroup\n",
    "$\n"
   ]
  },
  {
   "cell_type": "code",
   "execution_count": 40,
   "metadata": {},
   "outputs": [
    {
     "name": "stdout",
     "output_type": "stream",
     "text": [
      " -6, -2, -2 ||  1 \n",
      "  9,  3,  3 ||  1 \n",
      " -3, -2,  0 ||  1 \n",
      "[[Fraction(1, 1), Fraction(1, 3), Fraction(1, 3), Fraction(1, 9)], [Fraction(0, 1), Fraction(0, 1), Fraction(0, 1), Fraction(5, 3)], [Fraction(0, 1), Fraction(-1, 1), Fraction(1, 1), Fraction(4, 3)]]\n",
      "[[Fraction(1, 1), Fraction(0, 1), Fraction(2, 3), Fraction(5, 9)], [Fraction(0, 1), Fraction(1, 1), Fraction(-1, 1), Fraction(-4, 3)], [Fraction(0, 1), Fraction(0, 1), Fraction(0, 1), Fraction(5, 3)]]\n"
     ]
    }
   ],
   "source": [
    "from fractions import Fraction\n",
    "# 不要修改这里！\n",
    "from helper import *\n",
    "# 不要修改这里！\n",
    "A = generateMatrix(3,2,singular=True)\n",
    "b = np.ones(shape=(3,1),dtype=int)\n",
    "Ab = augmentMatrix(A.tolist(),b.tolist()) # 请确保你的增广矩阵已经写好了\n",
    "printInMatrixFormat(Ab,padding=3,truncating=0)\n",
    "\n",
    "def swapRows(M, r1, r2):\n",
    "    M[r1], M[r2] = M[r2], M[r1]\n",
    "    \n",
    "def scaleRow(M, r, scale):\n",
    "    if scale != 0:\n",
    "        for i in range(len(M[r])):\n",
    "            M[r][i] = M[r][i]*scale\n",
    "    else:\n",
    "        raise ValueError(\"scale is 0\")\n",
    "\n",
    "def addScaledRow(M, r1, r2, scale):\n",
    "    for i in range(len(M[r1])):\n",
    "        M[r1][i] += M[r2][i]*scale\n",
    "\n",
    "def gj_Solve(A, b, decPts, epsilon):\n",
    "    if len(A) != len(b):    #如果 A，b 高度不同，返回None\n",
    "        return None\n",
    "    M = augmentMatrix(A.tolist(),b.tolist())\n",
    "    #print M\n",
    "    for i in range(len(M[0])-1):    #取第i列\n",
    "        #print 'i:',i\n",
    "        value_list = [0]*(len(M)-i)\n",
    "        for j in range(i,len(M)):\n",
    "            value = M[j][i]\n",
    "            value_list[j-i] = abs(value)\n",
    "        #print 'value_list:',value_list    #对角线及对角线以下值绝对值的列表\n",
    "        max_value = max(value_list)    #取第i列对角线及以下数值绝对值的最大值\n",
    "        #print 'max_value:',max_value\n",
    "        if max_value <= epsilon:    #如果最大值为0，则A为奇异矩阵，返回None\n",
    "            return None\n",
    "        else:\n",
    "            for r in range(len(value_list)):\n",
    "                if value_list[r] == max_value:    #取绝对值最大值所在行\n",
    "                    #print '最大值所在行:',M[r+i]\n",
    "                    #print '第i行:',M[i]\n",
    "                    swapRows(M, i, r+i)    #绝对值最大值所在行与i行交换\n",
    "                    #print '交换后的第i行:',M[i]\n",
    "                    if M[i][i] != 0:\n",
    "                        scaleRow(M, i, Fraction(1, M[i][i]))     #1.0/M[i][i] 第i行对角线值变为1\n",
    "                        #print '对角线值为1的第i行',M[i]\n",
    "                        for l in range(len(M)):    #第i列除对角线值外的元素变为0\n",
    "                            if l != i:\n",
    "                                #print '第l行:',l\n",
    "                                #print \"第l行\",M[l]\n",
    "                                addScaledRow(M, l, i, -M[l][i])    #第i列第l个值变为0\n",
    "                                #print '第i列第l个值为0的l行:',M[l]\n",
    "                            else:\n",
    "                                continue\n",
    "                        print M    #每一列循环后的M\n",
    "                    break    #退出r的循环\n",
    "    return M\n",
    "gj_Solve(A, b, decPts=4, epsilon = 1.0e-16)"
   ]
  },
  {
   "cell_type": "markdown",
   "metadata": {},
   "source": [
    "$Ab = \\left\\lgroup \\matrix{-6 & -2 & -2 & 1\\cr 9 & 3 & 3&1\\cr -3&-2&0&1\\cr} \\right\\rgroup\\\\\n",
    "-->\\left\\lgroup \\matrix{1 & \\frac{1}{3} & \\frac{1}{3} & \\frac{1}{9}\\cr 0 & 0 & 0&\\frac{5}{3}\\cr 0&\\frac{-1}{1}&1&\\frac{4}{3}\\cr} \\right\\rgroup\\\\\n",
    "-->\\left\\lgroup \\matrix{1 & 0 & \\frac{2}{3} & \\frac{5}{9}\\cr 0 & 1 & \\frac{-1}{1}&\\frac{-4}{3}\\cr 0&0&0&\\frac{5}{3}\\cr} \\right\\rgroup\n",
    "$"
   ]
  },
  {
   "cell_type": "markdown",
   "metadata": {},
   "source": [
    "### 2.3.3 实现 Gaussian Jordan 消元法"
   ]
  },
  {
   "cell_type": "code",
   "execution_count": 42,
   "metadata": {},
   "outputs": [],
   "source": [
    "# TODO 实现 Gaussain Jordan 方法求解 Ax = b\n",
    "\n",
    "\"\"\" Gaussian Jordan 方法求解 Ax = b.\n",
    "    参数\n",
    "        A: 方阵 \n",
    "        b: 列向量\n",
    "        decPts: 四舍五入位数，默认为4\n",
    "        epsilon: 判读是否为0的阈值，默认 1.0e-16\n",
    "        \n",
    "    返回列向量 x 使得 Ax = b \n",
    "    返回None，如果 A，b 高度不同\n",
    "    返回None，如果 A 为奇异矩阵\n",
    "\"\"\"\n",
    "\n",
    "def gj_Solve(A, b, decPts=4, epsilon=1.0e-16):\n",
    "    if len(A) != len(b):    #如果 A，b 高度不同，返回None\n",
    "        return None\n",
    "    M = augmentMatrix(A.tolist(),b.tolist())\n",
    "    #print M\n",
    "    for i in range(len(M[0])-1):    #取第i列\n",
    "        #print 'i:',i\n",
    "        value_list = [0]*(len(M)-i)\n",
    "        for j in range(i,len(M)):\n",
    "            value = M[j][i]\n",
    "            value_list[j-i] = abs(value)\n",
    "        #print 'value_list:',value_list    #对角线及对角线以下值绝对值的列表\n",
    "        max_value = max(value_list)    #取第i列对角线及以下数值绝对值的最大值\n",
    "        #print 'max_value:',max_value\n",
    "        if max_value <= epsilon:    #如果最大值为0，则A为奇异矩阵，返回None\n",
    "            return None\n",
    "        else:\n",
    "            for r in range(len(value_list)):\n",
    "                if value_list[r] == max_value:    #取绝对值最大值所在行\n",
    "                    #print '最大值所在行:',M[r+i]\n",
    "                    #print '第i行:',M[i]\n",
    "                    swapRows(M, i, r+i)    #绝对值最大值所在行与i行交换\n",
    "                    #print '交换后的第i行:',M[i]\n",
    "                    scaleRow(M, i, 1.0/M[i][i])     #1.0/M[i][i] 第i行对角线值变为1\n",
    "                    #print '对角线值为1的第i行',M[i]\n",
    "                    for l in range(len(M)):    #第i列除对角线值外的元素变为0\n",
    "                        if l != i:\n",
    "                            #print '第l行:',l\n",
    "                            #print \"第l行\",M[l]\n",
    "                            addScaledRow(M, l, i, -M[l][i])    #第i列第l个值变为0\n",
    "                            #print '第i列第l个值为0的l行:',M[l]\n",
    "                        else:\n",
    "                            continue\n",
    "                    #print M    #每一列循环后的M\n",
    "                    break    #退出r的循环\n",
    "    x = [0]*len(b)\n",
    "    for i in range(len(M)):\n",
    "        x[i] = round(Decimal(M[i][-1]),decPts)\n",
    "        \n",
    "    return x"
   ]
  },
  {
   "cell_type": "code",
   "execution_count": 44,
   "metadata": {},
   "outputs": [
    {
     "name": "stdout",
     "output_type": "stream",
     "text": [
      "[-0.2468, -0.0195, -0.1299]\n"
     ]
    }
   ],
   "source": [
    "print gj_Solve(A, b, decPts=4, epsilon=1.0e-16)"
   ]
  },
  {
   "cell_type": "markdown",
   "metadata": {},
   "source": [
    "## (选做) 2.4 算法正确判断了奇异矩阵：\n",
    "在算法的步骤3 中，如果发现某一列对角线和对角线以下所有元素都为0，那么则断定这个矩阵为奇异矩阵。  \n",
    "\n",
    "我们用正式的语言描述这个命题，并证明为真。  \n",
    "\n",
    "证明下面的命题：  \n",
    "\n",
    "如果方阵 A 可以被分为4个部分:  \n",
    "\n",
    "$ A = \\begin{bmatrix}\n",
    "    I   ,  X \\\\\n",
    "    Z   ,  Y \\\\\n",
    "\\end{bmatrix} , \\text{其中 I 为单位矩阵，Z 为全0矩阵，Y 的第一列全0}$，\n",
    "那么A为奇异矩阵。  \n",
    "\n",
    "提示：从多种角度都可以完成证明  \n",
    "\n",
    "考虑矩阵 Y 和 矩阵 A 的秩  \n",
    "\n",
    "考虑矩阵 Y 和 矩阵 A 的行列式  \n",
    "\n",
    "考虑矩阵 A 的某一列是其他列的线性组合  \n",
    "\n",
    "TODO 证明：  \n",
    "1、设矩阵Y的第一列为矩阵A的第i列。因为矩阵I为单位矩阵，矩阵Y的第一列全为0，所以矩阵A的第i列为矩阵A第1列至第i-1列的线性组合。  \n",
    "\n",
    "2、矩阵A的第i列可以通过线性变换，使全部元素变为0，线性变换后的矩阵为D    \n",
    "\n",
    "3、因为：把行列式的某一行（列）的各元素乘以同一个值，然后加到另一行（列）对应的元素上，行列式的值不变。所以：矩阵A的行列式等于矩阵D的行列   \n",
    "\n",
    "4、将矩阵D的行列式的第i行的所有元素乘以2，等于用2乘以矩阵D的行列式；又因为第i行的所有元素为0，乘以2后仍为零，依然等于矩阵D的行列式。所以：2|D|=|D|，所以|D|=0    \n",
    "\n",
    "5、所以|A|=0，所以矩阵A为奇异矩阵"
   ]
  },
  {
   "cell_type": "markdown",
   "metadata": {},
   "source": [
    "# 3 线性回归    \n",
    "\n",
    "## 3.1 随机生成样本点"
   ]
  },
  {
   "cell_type": "code",
   "execution_count": 23,
   "metadata": {},
   "outputs": [
    {
     "data": {
      "image/png": "[encoded data removed]",
      "text/plain": [
       "<matplotlib.figure.Figure at 0x1084973d0>"
      ]
     },
     "metadata": {},
     "output_type": "display_data"
    }
   ],
   "source": [
    "# 不要修改这里！\n",
    "# 运行一次就够了！\n",
    "from helper import *\n",
    "from matplotlib import pyplot as plt\n",
    "%matplotlib inline\n",
    "\n",
    "#X,Y = generatePoints(1,num=100)\n",
    "\n",
    "## 可视化\n",
    "#plt.xlim((-5,5))\n",
    "#plt.xlabel('x',fontsize=18)\n",
    "#plt.ylabel('y',fontsize=18)\n",
    "plt.scatter(X,Y,c='b')\n",
    "plt.show()"
   ]
  },
  {
   "cell_type": "markdown",
   "metadata": {},
   "source": [
    "## 3.2 拟合一条直线    \n",
    "\n",
    "### 3.2.1 猜测一条直线"
   ]
  },
  {
   "cell_type": "code",
   "execution_count": 8,
   "metadata": {},
   "outputs": [
    {
     "data": {
      "image/png": "[encoded data removed]",
      "text/plain": [
       "<matplotlib.figure.Figure at 0x108324e10>"
      ]
     },
     "metadata": {},
     "output_type": "display_data"
    }
   ],
   "source": [
    "#TODO 请选择最适合的直线 y = mx + b\n",
    "m1 = 1\n",
    "b1 = 1\n",
    "\n",
    "# 不要修改这里！\n",
    "plt.xlim((-5,5))\n",
    "x_vals = plt.axes().get_xlim()\n",
    "y_vals = [m1*x+b1 for x in x_vals]\n",
    "plt.plot(x_vals, y_vals, '-', color='r')\n",
    "\n",
    "plt.xlabel('x',fontsize=18)\n",
    "plt.ylabel('y',fontsize=18)\n",
    "plt.scatter(X,Y,c='b')\n",
    "\n",
    "plt.show()"
   ]
  },
  {
   "cell_type": "markdown",
   "metadata": {},
   "source": [
    "### 3.2.2 计算平均平方误差 (MSE)    \n",
    "\n",
    "    我们要编程计算所选直线的平均平方误差(MSE), 即数据集中每个点到直线的Y方向距离的平方的平均数，表达式如下： \n",
    "$$\n",
    "MSE = \\frac{1}{n}\\sum_{i=1}^{n}{(y_i - mx_i - b)^2}\n",
    "$$"
   ]
  },
  {
   "cell_type": "code",
   "execution_count": 58,
   "metadata": {},
   "outputs": [
    {
     "name": "stdout",
     "output_type": "stream",
     "text": [
      "0.759117183071\n"
     ]
    },
    {
     "data": {
      "image/png": "[encoded data removed]",
      "text/plain": [
       "<matplotlib.figure.Figure at 0x1086ac050>"
      ]
     },
     "metadata": {},
     "output_type": "display_data"
    }
   ],
   "source": [
    "# 不要修改这里！\n",
    "# 运行一次就够了！\n",
    "from helper import *\n",
    "from matplotlib import pyplot as plt\n",
    "%matplotlib inline\n",
    "\n",
    "X,Y = generatePoints(1,num=100)\n",
    "\n",
    "#TODO 请选择最适合的直线 y = mx + b\n",
    "m1 = -0.85\n",
    "b1 = 12.28\n",
    "\n",
    "# 不要修改这里！\n",
    "plt.xlim((-5,5))\n",
    "x_vals = plt.axes().get_xlim()\n",
    "y_vals = [m1*x+b1 for x in x_vals]\n",
    "plt.plot(x_vals, y_vals, '-', color='r')\n",
    "\n",
    "plt.xlabel('x',fontsize=18)\n",
    "plt.ylabel('y',fontsize=18)\n",
    "plt.scatter(X,Y,c='b')\n",
    "\n",
    "#plt.show()\n",
    "\n",
    "\n",
    "def calculateMSE(X,Y,m,b):\n",
    "    sum_value = 0\n",
    "    for i in range(len(X)):\n",
    "        distance_square = (Y[i]-m*X[i]-b)**2\n",
    "        sum_value += distance_square\n",
    "    return sum_value/len(X)\n",
    "\n",
    "print(calculateMSE(X,Y,m1,b1))"
   ]
  },
  {
   "cell_type": "markdown",
   "metadata": {},
   "source": [
    "### 3.2.3 调整参数 $m, b$ 来获得最小的平方平均误差\n",
    "你可以调整3.2.1中的参数 $m1,b1$ 让蓝点均匀覆盖在红线周围，然后微调 $m1, b1$ 让MSE最小。"
   ]
  },
  {
   "cell_type": "markdown",
   "metadata": {},
   "source": [
    "## 3.3 (选做) 找到参数 $m, b$ 使得平方平均误差最小"
   ]
  },
  {
   "cell_type": "markdown",
   "metadata": {},
   "source": [
    "目标函数\n",
    "$$\n",
    "E = \\frac{1}{2}\\sum_{i=1}^{n}{(y_i - mx_i - b)^2}\n",
    "$$"
   ]
  },
  {
   "cell_type": "markdown",
   "metadata": {},
   "source": [
    "二元二次方程组\n",
    "$$\n",
    "\\begin{cases}\n",
    "\\displaystyle\n",
    "\\sum_{i=1}^{n}{-x_i(y_i - mx_i - b)} =0 \\\\\n",
    "\\\\\n",
    "\\displaystyle\n",
    "\\sum_{i=1}^{n}{-(y_i - mx_i - b)} =0 \\\\\n",
    "\\end{cases}\n",
    "$$"
   ]
  },
  {
   "cell_type": "markdown",
   "metadata": {},
   "source": [
    "并求解最优参数 $m, b$\n",
    "$$\n",
    "m = -\\frac{1}{3}\\\\    b = \\frac{23}{9}\n",
    "$$"
   ]
  },
  {
   "cell_type": "code",
   "execution_count": null,
   "metadata": {},
   "outputs": [],
   "source": []
  },
  {
   "cell_type": "code",
   "execution_count": null,
   "metadata": {},
   "outputs": [],
   "source": []
  }
 ],
 "metadata": {
  "kernelspec": {
   "display_name": "Python 2",
   "language": "python",
   "name": "python2"
  },
  "language_info": {
   "codemirror_mode": {
    "name": "ipython",
    "version": 2
   },
   "file_extension": ".py",
   "mimetype": "text/x-python",
   "name": "python",
   "nbconvert_exporter": "python",
   "pygments_lexer": "ipython2",
   "version": "2.7.14"
  }
 },
 "nbformat": 4,
 "nbformat_minor": 2
}
